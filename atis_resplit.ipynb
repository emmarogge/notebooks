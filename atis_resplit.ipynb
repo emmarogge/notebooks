{
  "nbformat": 4,
  "nbformat_minor": 0,
  "metadata": {
    "colab": {
      "name": "atis-resplit.ipynb",
      "version": "0.3.2",
      "provenance": [],
      "toc_visible": true,
      "include_colab_link": true
    },
    "kernelspec": {
      "name": "python3",
      "display_name": "Python 3"
    }
  },
  "cells": [
    {
      "cell_type": "markdown",
      "metadata": {
        "id": "view-in-github",
        "colab_type": "text"
      },
      "source": [
        "<a href=\"https://colab.research.google.com/github/kpe/notebooks/blob/master/atis_resplit.ipynb\" target=\"_parent\"><img src=\"https://colab.research.google.com/assets/colab-badge.svg\" alt=\"Open In Colab\"/></a>"
      ]
    },
    {
      "metadata": {
        "id": "H1ainSCfiwfT",
        "colab_type": "code",
        "colab": {}
      },
      "cell_type": "code",
      "source": [
        "import os\n",
        "import itertools\n",
        "\n",
        "from collections import defaultdict, Counter\n",
        "from random import Random\n",
        "from functools import partial\n",
        "\n",
        "from urllib import request, parse\n",
        "\n",
        "import numpy as np\n",
        "\n",
        "%matplotlib inline\n",
        "from matplotlib import pyplot as plt"
      ],
      "execution_count": 0,
      "outputs": []
    },
    {
      "metadata": {
        "id": "3S7mwHaejAfh",
        "colab_type": "text"
      },
      "cell_type": "markdown",
      "source": [
        "# The ATIS Dataset\n",
        "\n",
        "The ATIS DataSet is widely used [TODO add the references] benchmark dataset for intent classification and slot filling models used in dialog systems.\n",
        "\n",
        "This notebook will:\n",
        "  \n",
        "  1. fetch the ATIS DataSet from https://github.com/yvchen/JointSLU \n",
        "  2. Explore the the slot and intent label distribution accross the the train/dev/test dataset split\n",
        "  3. Provide an alternative (balanced) datasplit\n",
        "  \n",
        "\n",
        "\n",
        "\n",
        "\n",
        "\n"
      ]
    },
    {
      "metadata": {
        "id": "FV0et9vIk-mJ",
        "colab_type": "text"
      },
      "cell_type": "markdown",
      "source": [
        "## Fetching the dataset\n",
        "The ATIS dataset from [yvchen/JointSLU](https://github.com/yvchen/JointSLU) is provided as train, dev and test split in text format, one sample per line with whitespace separated tokens and IOB tags, followeb by the intent label, i.e.:\n",
        "\n",
        "    BOS from denver to baltimore EOS O O B-fromloc.city_name O B-toloc.city_name atis_flight\n",
        "    BOS ground transportation in denver EOS  O O O O B-city_name atis_ground_service"
      ]
    },
    {
      "metadata": {
        "id": "p9VO5qSapAcz",
        "colab_type": "code",
        "outputId": "9fbd6942-c2ff-4c67-c585-8e0e46b5879c",
        "colab": {
          "base_uri": "https://localhost:8080/",
          "height": 68
        }
      },
      "cell_type": "code",
      "source": [
        "ATIS_BASE_URL=\"https://raw.githubusercontent.com/yvchen/JointSLU/master/data/\"\n",
        "\n",
        "def load_atis_ds(fname, base_url=ATIS_BASE_URL):\n",
        "    res = []\n",
        "    with request.urlopen(parse.urljoin(base_url,fname)) as req:\n",
        "        for line in req.readlines():\n",
        "            line = line.decode(req.info().get_content_charset())\n",
        "            toks,si      = map(str.split, line.split(\"\\t\"))\n",
        "            slots,intent = si[:-1]+['O'], si[-1]\n",
        "            assert len(toks) == len(slots)\n",
        "            res.append((toks, slots, intent))\n",
        "    ds_name = '.'.join(fname.split('.')[:2])\n",
        "    print('{:>20s}: {:4d}'.format(ds_name, len(res)))\n",
        "    return res, ds_name\n",
        "\n",
        "atis = {name: ds for ds, name in \n",
        "        map(load_atis_ds, map(lambda name: name+'.w-intent.iob',\n",
        "                              ['atis.test', 'atis-2.dev','atis-2.train']))}\n"
      ],
      "execution_count": 30,
      "outputs": [
        {
          "output_type": "stream",
          "text": [
            "           atis.test:  893\n",
            "          atis-2.dev:  500\n",
            "        atis-2.train: 4478\n"
          ],
          "name": "stdout"
        }
      ]
    },
    {
      "metadata": {
        "id": "-Bvy53Yb84qY",
        "colab_type": "text"
      },
      "cell_type": "markdown",
      "source": [
        "## Exploring the data splits"
      ]
    },
    {
      "metadata": {
        "id": "7AKmhfc2t4kz",
        "colab_type": "code",
        "outputId": "cb107424-5e50-4a7d-a962-704dfe40a0c0",
        "colab": {
          "base_uri": "https://localhost:8080/",
          "height": 68
        }
      },
      "cell_type": "code",
      "source": [
        "# a single entry looks like this\n",
        "toks,slots,intent = atis['atis.test'][0]\n",
        "print(' input:', ' '.join(toks))\n",
        "print(' slots:', ' '.join(slots))\n",
        "print('intent:',          intent)"
      ],
      "execution_count": 31,
      "outputs": [
        {
          "output_type": "stream",
          "text": [
            " input: BOS i would like to find a flight from charlotte to las vegas that makes a stop in st. louis EOS\n",
            " slots: O O O O O O O O O B-fromloc.city_name O B-toloc.city_name I-toloc.city_name O O O O O B-stoploc.city_name I-stoploc.city_name O\n",
            "intent: atis_flight\n"
          ],
          "name": "stdout"
        }
      ]
    },
    {
      "metadata": {
        "id": "7pVVfkEV9QIi",
        "colab_type": "text"
      },
      "cell_type": "markdown",
      "source": [
        "Lets check if all labels are present in both the train and test (or dev) data splits."
      ]
    },
    {
      "metadata": {
        "id": "LANTfKwvwLMs",
        "colab_type": "code",
        "outputId": "ec758c2a-dc21-4732-bad8-1cfe17e6ea20",
        "colab": {
          "base_uri": "https://localhost:8080/",
          "height": 294
        }
      },
      "cell_type": "code",
      "source": [
        "test,dev,train = map(atis.get, ['atis.test','atis-2.dev','atis-2.train'])\n",
        "\n",
        "def subdict(d, keys):\n",
        "  return {key: d[key] for key in set(keys)}\n",
        "\n",
        "def atis_label_counts(ds):\n",
        "  tokens, slots, intents = zip(*ds)\n",
        "  token_labs  = Counter(list(itertools.chain.from_iterable(tokens)))\n",
        "  slot_labs   = Counter(list(itertools.chain.from_iterable(slots)))\n",
        "  intent_labs = Counter(intents)\n",
        "  return token_labs, slot_labs, intent_labs\n",
        "\n",
        "def check_atis_split(train, dev, test):\n",
        "  (_,ts,ti), (_,ds,di), (_,es,ei) = map(atis_label_counts,\n",
        "                                        [train, dev, test])\n",
        "\n",
        "  lens = np.array(list(map(len, [train,dev,test])))\n",
        "  print(\"   sample count: {:5d} splitted into:\".format(lens.sum()))\n",
        "  for dslen, dsname in zip(lens, ['train', 'dev', 'test']):\n",
        "    print(\"          {:>5s}: {:5d} ({:.3f})\".format(dsname, dslen, dslen/lens.sum()))\n",
        "  \n",
        "  unique_entries = train+dev+test\n",
        "  unique_entries = set([(tuple(toks),tuple(slots),intent) \n",
        "                        for toks, slots, intent in unique_entries])\n",
        "  print(\"duplicate count: {:5d}\".format(len(train+dev+test)-len(unique_entries)))\n",
        "  \n",
        "  # map slot/intent labels to usage frequency\n",
        "  token_labs,slot_labs,intent_labs = atis_label_counts(train+dev+test)\n",
        "  sfreqs, ifreqs = map(partial(partial,subdict), [slot_labs, intent_labs])\n",
        "\n",
        "  print(\"   intent count:\", len(intent_labs))\n",
        "  print(\"     slot count:\", len(slot_labs))\n",
        "  print(\"    token count:\", len(token_labs))\n",
        "  \n",
        "  print(\"missing data for slot/intent labels:\")\n",
        "  ts,ti,ds,di,es,ei = map(lambda s: set(s.keys()), [ts,ti,ds,di,es,ei])\n",
        "  for dsname, mints, mslots in [(\"train\", \n",
        "                                 ifreqs(di.union(ei).difference(ti)),\n",
        "                                 sfreqs(ds.union(es).difference(ts))),\n",
        "                                (\"dev\", \n",
        "                                 ifreqs(ti.difference(di)),\n",
        "                                 sfreqs(ts.difference(ds))),\n",
        "                                (\"test\", \n",
        "                                 ifreqs(ti.difference(ei)),\n",
        "                                 sfreqs(ts.difference(es)))]:\n",
        "    print(\"  no {:>5s} data for {:2d} intents: {}\".format(dsname, \n",
        "                                                       len(mints), mints))\n",
        "    print(\"  no {:>5s} data for {:2d}   slots: {}\".format(dsname, \n",
        "                                                       len(mslots), mslots))\n",
        "\n",
        "\n",
        "check_atis_split(train, dev, test)"
      ],
      "execution_count": 39,
      "outputs": [
        {
          "output_type": "stream",
          "text": [
            "   sample count:  5871 splitted into:\n",
            "          train:  4478 (0.763)\n",
            "            dev:   500 (0.085)\n",
            "           test:   893 (0.152)\n",
            "duplicate count:   397\n",
            "   intent count: 26\n",
            "     slot count: 127\n",
            "    token count: 952\n",
            "missing data for slot/intent labels:\n",
            "  no train data for  5 intents: {'atis_flight#atis_airline': 1, 'atis_airfare#atis_flight_time': 1, 'atis_day_name': 2, 'atis_flight_no#atis_airline': 1, 'atis_airfare#atis_flight': 1}\n",
            "  no train data for  7   slots: {'I-state_name': 1, 'I-return_date.day_number': 1, 'B-stoploc.airport_code': 1, 'B-flight': 1, 'B-compartment': 1, 'I-flight_number': 1, 'B-booking_class': 1}\n",
            "  no   dev data for  6 intents: {'atis_aircraft#atis_flight#atis_flight_no': 1, 'atis_ground_service#atis_ground_fare': 1, 'atis_airline#atis_flight_no': 2, 'atis_flight_no': 20, 'atis_cheapest': 1, 'atis_meal': 12}\n",
            "  no   dev data for 25   slots: {'B-meal_code': 7, 'B-return_time.period_mod': 2, 'B-return_date.today_relative': 1, 'I-arrive_time.period_of_day': 3, 'B-today_relative': 2, 'B-stoploc.airport_name': 1, 'I-meal_code': 4, 'I-arrive_time.time_relative': 6, 'I-depart_time.time_relative': 3, 'B-toloc.country_name': 4, 'I-return_date.date_relative': 5, 'I-economy': 10, 'I-depart_date.today_relative': 12, 'B-time': 2, 'I-return_date.today_relative': 2, 'I-today_relative': 3, 'I-arrive_date.day_number': 6, 'I-time': 1, 'B-return_date.day_name': 3, 'B-month_name': 2, 'B-time_relative': 1, 'I-arrive_time.start_time': 9, 'B-stoploc.state_code': 5, 'B-day_number': 2, 'I-meal_description': 1}\n",
            "  no  test data for  5 intents: {'atis_aircraft#atis_flight#atis_flight_no': 1, 'atis_restriction': 6, 'atis_airline#atis_flight_no': 2, 'atis_ground_service#atis_ground_fare': 1, 'atis_cheapest': 1}\n",
            "  no  test data for 25   slots: {'B-return_time.period_mod': 2, 'B-return_date.today_relative': 1, 'I-arrive_time.period_of_day': 3, 'B-today_relative': 2, 'B-stoploc.airport_name': 1, 'I-meal_code': 4, 'B-return_date.day_number': 4, 'B-arrive_date.today_relative': 2, 'I-flight_stop': 17, 'I-economy': 10, 'I-depart_date.today_relative': 12, 'I-fare_basis_code': 2, 'B-time': 2, 'B-return_date.month_name': 4, 'I-return_date.today_relative': 2, 'I-today_relative': 3, 'I-arrive_date.day_number': 6, 'B-arrive_time.period_mod': 4, 'I-time': 1, 'B-month_name': 2, 'B-time_relative': 1, 'I-meal_description': 1, 'B-stoploc.state_code': 5, 'B-day_number': 2, 'B-return_time.period_of_day': 3}\n"
          ],
          "name": "stdout"
        }
      ]
    },
    {
      "metadata": {
        "id": "FYmDei989r_6",
        "colab_type": "text"
      },
      "cell_type": "markdown",
      "source": [
        "So from above, we see, there are 5 intent and 7 slot labels not present at all in the train dataset. And quite simillary up to 20% of the labels are not present in the dev or test dataset. There are also 397 duplicated entries.\n",
        "\n",
        "As a visualization:"
      ]
    },
    {
      "metadata": {
        "id": "VL2TrHUW_nii",
        "colab_type": "code",
        "outputId": "6cf4da3b-828e-43c7-bac1-303a30fd67b0",
        "colab": {
          "base_uri": "https://localhost:8080/",
          "height": 543
        }
      },
      "cell_type": "code",
      "source": [
        "def visualize_atis_split(train,dev,test):\n",
        "  (_,ts,ti), (_,ds,di), (_,es,ei) = map(atis_label_counts,\n",
        "                                        [train, dev, test])\n",
        "  _,alls, alli = atis_label_counts(train+dev+test)\n",
        "\n",
        "  tsc,dsc,esc,asc = (np.array([d[slot]   for slot,_   in alls.most_common()]) \n",
        "                     for d in [ts,ds,es, alls])\n",
        "  tic,dic,eic,aic = (np.array([d[intent] for intent,_ in alli.most_common()]) \n",
        "                     for d in [ti,di,ei, alli])\n",
        "\n",
        "  plt.figure(figsize=(18,4))\n",
        "  plt.title('intent label distribution')\n",
        "  plt.bar(x=np.arange(len(tic)), height=tic/aic,                       label='train')\n",
        "  plt.bar(x=np.arange(len(dic)), height=dic/aic, bottom=tic/aic,       label='dev')\n",
        "  plt.bar(x=np.arange(len(eic)), height=eic/aic, bottom=(tic+dic)/aic, label='test')\n",
        "  plt.legend(loc='center left', fancybox=True, framealpha=0.5)\n",
        "\n",
        "  plt.figure(figsize=(18,4))\n",
        "  plt.title('slot labels distribution')\n",
        "  plt.bar(x=np.arange(len(tsc)), height=tsc/asc,                       label='train')\n",
        "  plt.bar(x=np.arange(len(dsc)), height=dsc/asc, bottom=tsc/asc,       label='dev')\n",
        "  plt.bar(x=np.arange(len(esc)), height=esc/asc, bottom=(tsc+dsc)/asc, label='test')\n",
        "  plt.legend(loc='center left', fancybox=True, framealpha=0.5)\n",
        "\n",
        "visualize_atis_split(train,dev,test)"
      ],
      "execution_count": 40,
      "outputs": [
        {
          "output_type": "display_data",
          "data": {
            "image/png": "[encoded data removed]",
            "text/plain": [
              "<Figure size 1296x288 with 1 Axes>"
            ]
          },
          "metadata": {
            "tags": []
          }
        },
        {
          "output_type": "display_data",
          "data": {
            "image/png": "[encoded data removed]",
            "text/plain": [
              "<Figure size 1296x288 with 1 Axes>"
            ]
          },
          "metadata": {
            "tags": []
          }
        }
      ]
    },
    {
      "metadata": {
        "id": "QMLyL0rE-4yx",
        "colab_type": "text"
      },
      "cell_type": "markdown",
      "source": [
        "## Splitting the ATIS dataset"
      ]
    },
    {
      "metadata": {
        "id": "gpJm3WkQHCTU",
        "colab_type": "text"
      },
      "cell_type": "markdown",
      "source": [
        "Befere we split, we should better remove any duplicates and all samples containing labels occurnig less than 3 times (we actually remove samples with labels occurring less than 4 times, after inspecting the output of `check_atis_split()` for a dataset cleaned with the \"less than 3 times\" label rule)."
      ]
    },
    {
      "metadata": {
        "id": "EdlVgktRHAxc",
        "colab_type": "code",
        "outputId": "87aed546-7d1d-43e2-94c2-a7a123a822b6",
        "colab": {
          "base_uri": "https://localhost:8080/",
          "height": 68
        }
      },
      "cell_type": "code",
      "source": [
        "test,dev,train = map(atis.get, ['atis.test','atis-2.dev','atis-2.train'])\n",
        "atis_all = train + dev + test\n",
        "\n",
        "\n",
        "print(\"original ATIS    data count:\",len(atis_all))\n",
        "\n",
        "cleands = atis_all\n",
        "# keep unique entries only\n",
        "cleands = set([(tuple(toks),tuple(slots),intent) for toks, slots, intent in cleands])\n",
        "print(\"   after duplicates removal:\",len(cleands))\n",
        "\n",
        "# count label frequencies\n",
        "_, slot_labs, intent_labs = atis_label_counts(cleands)\n",
        "\n",
        "# filter labels occuring only once\n",
        "clean_slots   = dict(filter(lambda t: t[1] > 3, slot_labs.most_common()))\n",
        "clean_intents = dict(filter(lambda t: t[1] > 3, intent_labs.most_common()))\n",
        "\n",
        "# remove the corresponding data samples\n",
        "cleands = list(filter(lambda t: set(t[1]).issubset(clean_slots), cleands))\n",
        "cleands = list(filter(lambda t: t[2] in clean_intents,           cleands))\n",
        "\n",
        "cleands = list(filter(lambda t: set(t[1]).issubset(slot_labs) and t[2] in intent_labs, cleands))\n",
        "print(\"       after label cleaning:\",len(cleands))\n",
        "\n",
        "# convert back from tuples to lists\n",
        "atis_clean = [(list(toks),list(slots),intent) for toks, slots, intent in sorted(list(cleands))]\n"
      ],
      "execution_count": 41,
      "outputs": [
        {
          "output_type": "stream",
          "text": [
            "original ATIS    data count: 5871\n",
            "   after duplicates removal: 5474\n",
            "       after label cleaning: 5432\n"
          ],
          "name": "stdout"
        }
      ]
    },
    {
      "metadata": {
        "id": "piGIBy3p4DKV",
        "colab_type": "code",
        "colab": {}
      },
      "cell_type": "code",
      "source": [
        "def split_atis(ads, split=[0.8, 0.1, 0.1],random_state=None):\n",
        "  \"\"\" Splits the ATIS dataset by starting with the least common labels.\"\"\"\n",
        "  split = np.array(split)\n",
        "  assert split.sum() == 1\n",
        "  \n",
        "  random = None if random_state is None else Random(random_state)\n",
        "    \n",
        "  res=[[] for _ in split]\n",
        "  used = set()             # used samples\n",
        "  s2e = defaultdict(set)   # slot to sample\n",
        "  i2e = defaultdict(set)   # intent to sample\n",
        "  for ndx, (_,slots,intent) in enumerate(ads): # build label to sample maps\n",
        "    i2e[intent].add(ndx)\n",
        "    for slot in set(slots):\n",
        "      s2e[slot].add(ndx)\n",
        "    \n",
        "  # sort according to usage\n",
        "  s2f = Counter({slot:len(ndxs)   for slot,ndxs   in s2e.items()}).most_common()\n",
        "  i2f = Counter({intent:len(ndxs) for intent,ndxs in i2e.items()}).most_common()\n",
        "  \n",
        "  while True:\n",
        "    # select the least common intent or slot label\n",
        "    if len(i2f)<1 and len(s2f)<1:            # both empty\n",
        "      break\n",
        "    elif len(i2f)>0 and len(s2f)>0:          # both non empty\n",
        "      use_intent = i2f[-1][1] < s2f[-1][1]   #\n",
        "    else:\n",
        "      use_intent = len(i2f)>0\n",
        "           \n",
        "    # get the samples of least common label\n",
        "    if use_intent:\n",
        "      intent, _ = i2f.pop()\n",
        "      ndxs = i2e.pop(intent)\n",
        "    else:\n",
        "      slot, _ = s2f.pop()\n",
        "      ndxs = s2e.pop(slot)\n",
        "        \n",
        "    # shuffle the samples of the selected label\n",
        "    ndxs = list(ndxs)\n",
        "    if random is not None:\n",
        "      random.shuffle(ndxs)\n",
        "    \n",
        "    splits = [[] for _ in split]\n",
        "    # put each sample in a split maintaining the split ratios    \n",
        "    for ndx in ndxs:\n",
        "      lens = np.array([len(sp) for sp in splits])\n",
        "      # fill the split with the highest frequency (reverse ratio) offset\n",
        "      sndx = np.argmax(1/(lens/(lens.sum()+1e-12)+1e-12) - 1/split)\n",
        "      if ndx not in used:\n",
        "        used.add(ndx)\n",
        "        splits[sndx].append(ndx)\n",
        "\n",
        "    # add the splitted label samples to the result split\n",
        "    for ndx, ndxs in enumerate(splits):\n",
        "      res[ndx].extend(ndxs)\n",
        "            \n",
        "  return res"
      ],
      "execution_count": 0,
      "outputs": []
    },
    {
      "metadata": {
        "id": "B4TKHrC1Fsu7",
        "colab_type": "code",
        "colab": {}
      },
      "cell_type": "code",
      "source": [
        "train,test,dev = split_atis(atis_clean,[0.8,0.1,0.1], random_state=7411)\n",
        "train,test,dev = map(lambda ndxs: np.array(atis_clean)[ndxs].tolist(),\n",
        "                     [train,test,dev])\n"
      ],
      "execution_count": 0,
      "outputs": []
    },
    {
      "metadata": {
        "id": "ZAUrXcveG5ki",
        "colab_type": "code",
        "outputId": "27cebf6c-6f91-438b-e454-f681988a4c98",
        "colab": {
          "base_uri": "https://localhost:8080/",
          "height": 274
        }
      },
      "cell_type": "code",
      "source": [
        "check_atis_split(train,dev,test)"
      ],
      "execution_count": 44,
      "outputs": [
        {
          "output_type": "stream",
          "text": [
            "   sample count:  5432 splitted into:\n",
            "          train:  4274 (0.787)\n",
            "            dev:   572 (0.105)\n",
            "           test:   586 (0.108)\n",
            "duplicate count:     0\n",
            "   intent count: 17\n",
            "     slot count: 101\n",
            "    token count: 945\n",
            "missing data for slot/intent labels:\n",
            "  no train data for  0 intents: {}\n",
            "  no train data for  0   slots: {}\n",
            "  no   dev data for  0 intents: {}\n",
            "  no   dev data for  0   slots: {}\n",
            "  no  test data for  0 intents: {}\n",
            "  no  test data for  0   slots: {}\n"
          ],
          "name": "stdout"
        }
      ]
    },
    {
      "metadata": {
        "id": "IaWR1j2gKcbz",
        "colab_type": "code",
        "outputId": "f64b7182-c91c-4b8b-bdce-36076eb7a16e",
        "colab": {
          "base_uri": "https://localhost:8080/",
          "height": 543
        }
      },
      "cell_type": "code",
      "source": [
        "visualize_atis_split(train,dev,test)"
      ],
      "execution_count": 45,
      "outputs": [
        {
          "output_type": "display_data",
          "data": {
            "image/png": "[encoded data removed]",
            "text/plain": [
              "<Figure size 1296x288 with 1 Axes>"
            ]
          },
          "metadata": {
            "tags": []
          }
        },
        {
          "output_type": "display_data",
          "data": {
            "image/png": "[encoded data removed]",
            "text/plain": [
              "<Figure size 1296x288 with 1 Axes>"
            ]
          },
          "metadata": {
            "tags": []
          }
        }
      ]
    },
    {
      "metadata": {
        "id": "fPSoH8WsSp5I",
        "colab_type": "text"
      },
      "cell_type": "markdown",
      "source": [
        "## Dump the ATIS data split\n",
        "\n",
        "We dump the ATIS datasets using the same format as in [link it]."
      ]
    },
    {
      "metadata": {
        "id": "Xt5Qxe45Sklx",
        "colab_type": "code",
        "outputId": "11fc49fa-267c-409c-f111-e7156dd06ed0",
        "colab": {
          "base_uri": "https://localhost:8080/",
          "height": 274
        }
      },
      "cell_type": "code",
      "source": [
        "# ok, lest store the split\n",
        "import gzip, pickle\n",
        "\n",
        "DATA_DIR=\"./\"\n",
        "\n",
        "def store_ds(ds,dicts, fname='atis-clean.train.pkl.gz'):\n",
        "    with gzip.open(os.path.join(DATA_DIR, fname), 'wb') as stream:\n",
        "        pickle.dump((ds,dicts),stream, protocol=pickle.HIGHEST_PROTOCOL)\n",
        "    print('Done  dumping: ', fname)\n",
        "    print('      samples: {:4d}'.format(len(ds['query'])))\n",
        "    print('   vocab_size: {:4d}'.format(len(dicts['token_ids'])))\n",
        "    print('   slot count: {:4d}'.format(len(dicts['slot_ids'])))\n",
        "    print(' intent count: {:4d}'.format(len(dicts['intent_ids'])))    \n",
        "\n",
        "def load_ds(fname='atis-clean.train.pkl.gz'):\n",
        "    with gzip.open(os.path.join(DATA_DIR, fname), 'rb') as stream:\n",
        "        ds,dicts = pickle.load(stream)\n",
        "    print('Done  loading: ', fname)\n",
        "    print('      samples: {:4d}'.format(len(ds['query'])))\n",
        "    print('   vocab_size: {:4d}'.format(len(dicts['token_ids'])))\n",
        "    print('   slot count: {:4d}'.format(len(dicts['slot_ids'])))\n",
        "    print(' intent count: {:4d}'.format(len(dicts['intent_ids'])))\n",
        "    return ds,dicts\n",
        "\n",
        "def to_ds_with_dicts(train,dev,test):\n",
        "    toks, slots, intents = atis_label_counts(train+dev+test)\n",
        "    dicts = {}\n",
        "    dicts['token_ids']  = {tok:ndx    for ndx, (tok, _) in enumerate(toks.most_common(),1)}\n",
        "    dicts['slot_ids']   = {slot:ndx   for ndx, (slot, _) in enumerate(slots.most_common(),1)}\n",
        "    dicts['intent_ids'] = {intent:ndx for ndx, (intent, _) in enumerate(intents.most_common(),1)}\n",
        "    \n",
        "    def to_ds(ds):\n",
        "        res = {}\n",
        "        res['query']         = [[dicts['token_ids'][tok] for tok in toks]   for toks, _, _ in ds]\n",
        "        res['slot_labels']   = [[dicts['slot_ids'][slot] for slot in slots] for _, slots, _ in ds]\n",
        "        res['intent_labels'] = [[dicts['intent_ids'][intent]]               for _, _, intent in ds]\n",
        "        return res\n",
        "    \n",
        "    return dicts, to_ds(train), to_ds(dev), to_ds(test)\n",
        "\n",
        "ndicts, ntrain_ds, ndev_ds, ntest_ds = to_ds_with_dicts(train,dev,test)\n",
        "\n",
        "store_ds(ntrain_ds, ndicts, 'atis-clean.train.pkl.gz')\n",
        "store_ds(ntest_ds,  ndicts, 'atis-clean.test.pkl.gz')\n",
        "store_ds(ndev_ds,   ndicts, 'atis-clean.dev.pkl.gz')"
      ],
      "execution_count": 46,
      "outputs": [
        {
          "output_type": "stream",
          "text": [
            "Done  dumping:  atis-clean.train.pkl.gz\n",
            "      samples: 4274\n",
            "   vocab_size:  945\n",
            "   slot count:  101\n",
            " intent count:   17\n",
            "Done  dumping:  atis-clean.test.pkl.gz\n",
            "      samples:  586\n",
            "   vocab_size:  945\n",
            "   slot count:  101\n",
            " intent count:   17\n",
            "Done  dumping:  atis-clean.dev.pkl.gz\n",
            "      samples:  572\n",
            "   vocab_size:  945\n",
            "   slot count:  101\n",
            " intent count:   17\n"
          ],
          "name": "stdout"
        }
      ]
    },
    {
      "metadata": {
        "id": "3C4deOEH3_xi",
        "colab_type": "code",
        "colab": {
          "base_uri": "https://localhost:8080/",
          "height": 68
        },
        "outputId": "234813ee-5b5e-4141-ecb7-b158f5a8ec84"
      },
      "cell_type": "code",
      "source": [
        "# lets store the split in the original format\n",
        "def store_atis_iob(ds, fname):\n",
        "    with open(fname, 'wt', encoding='UTF-8') as f:\n",
        "        for toks, slots, intent in ds:\n",
        "            line = \"{}\\t{} {}\\n\".format(\" \".join(toks), \n",
        "                                        \" \".join(slots[:-1]),\n",
        "                                        intent)\n",
        "            f.write(line)\n",
        "    print(\"Done writting \", fname)\n",
        "    \n",
        "store_atis_iob(train, os.path.join(DATA_DIR,\"atis-clean.train.w-intent.iob\"))\n",
        "store_atis_iob(dev,   os.path.join(DATA_DIR,\"atis-clean.dev.w-intent.iob\"))\n",
        "store_atis_iob(test,  os.path.join(DATA_DIR,\"atis-clean.test.w-intent.iob\"))"
      ],
      "execution_count": 47,
      "outputs": [
        {
          "output_type": "stream",
          "text": [
            "Done writting  ./atis-clean.train.w-intent.iob\n",
            "Done writting  ./atis-clean.dev.w-intent.iob\n",
            "Done writting  ./atis-clean.test.w-intent.iob\n"
          ],
          "name": "stdout"
        }
      ]
    },
    {
      "metadata": {
        "id": "hsuJjzlYTQNW",
        "colab_type": "code",
        "colab": {}
      },
      "cell_type": "code",
      "source": [
        "\n",
        "\n",
        "from google.colab import files\n",
        "\n",
        "files.download('atis-clean.train.pkl.gz')\n",
        "files.download('atis-clean.dev.pkl.gz')\n",
        "files.download('atis-clean.test.pkl.gz')\n",
        "\n",
        "files.download('./atis-clean.train.w-intent.iob')\n",
        "files.download('./atis-clean.dev.w-intent.iob')\n",
        "files.download('./atis-clean.test.w-intent.iob')"
      ],
      "execution_count": 0,
      "outputs": []
    },
    {
      "metadata": {
        "id": "OfIQpGqd33GK",
        "colab_type": "code",
        "colab": {}
      },
      "cell_type": "code",
      "source": [
        ""
      ],
      "execution_count": 0,
      "outputs": []
    }
  ]
}
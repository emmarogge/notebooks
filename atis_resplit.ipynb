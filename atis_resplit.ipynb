{
  "nbformat": 4,
  "nbformat_minor": 0,
  "metadata": {
    "colab": {
      "name": "atis-resplit.ipynb",
      "version": "0.3.2",
      "provenance": [],
      "include_colab_link": true
    },
    "kernelspec": {
      "name": "python3",
      "display_name": "Python 3"
    }
  },
  "cells": [
    {
      "cell_type": "markdown",
      "metadata": {
        "id": "view-in-github",
        "colab_type": "text"
      },
      "source": [
        "<a href=\"https://colab.research.google.com/github/kpe/notebooks/blob/master/atis_resplit.ipynb\" target=\"_parent\"><img src=\"https://colab.research.google.com/assets/colab-badge.svg\" alt=\"Open In Colab\"/></a>"
      ]
    },
    {
      "metadata": {
        "id": "H1ainSCfiwfT",
        "colab_type": "code",
        "colab": {}
      },
      "cell_type": "code",
      "source": [
        "import os\n",
        "import itertools\n",
        "\n",
        "from collections import defaultdict, Counter\n",
        "from random import Random\n",
        "from functools import partial\n",
        "\n",
        "from urllib import request, parse\n",
        "\n",
        "import numpy as np"
      ],
      "execution_count": 0,
      "outputs": []
    },
    {
      "metadata": {
        "id": "3S7mwHaejAfh",
        "colab_type": "text"
      },
      "cell_type": "markdown",
      "source": [
        "# The ATIS Dataset\n",
        "\n",
        "The ATIS DataSet is widely used [TODO add the references] benchmark dataset for intent classification and slot filling models used in dialog systems.\n",
        "\n",
        "This notebook will:\n",
        "  \n",
        "  1. fetch the ATIS DataSet from https://github.com/yvchen/JointSLU \n",
        "  2. Explore the the slot and intent label distribution accross the the train/dev/test dataset split\n",
        "  3. Provide an alternative (balanced) datasplit\n",
        "  \n",
        "\n",
        "\n",
        "\n",
        "\n",
        "\n"
      ]
    },
    {
      "metadata": {
        "id": "FV0et9vIk-mJ",
        "colab_type": "text"
      },
      "cell_type": "markdown",
      "source": [
        "## Fetching the dataset\n",
        "The ATIS dataset from [yvchen/JointSLU](https://github.com/yvchen/JointSLU) is provided as train, dev and test split in text format, one sample per line with whitespace separated tokens and IOB tags, followeb by the intent label, i.e.:\n",
        "\n",
        "    BOS from denver to baltimore EOS O O B-fromloc.city_name O B-toloc.city_name atis_flight\n",
        "    BOS ground transportation in denver EOS  O O O O B-city_name atis_ground_service"
      ]
    },
    {
      "metadata": {
        "id": "p9VO5qSapAcz",
        "colab_type": "code",
        "colab": {
          "base_uri": "https://localhost:8080/",
          "height": 70
        },
        "outputId": "e41236b8-ba43-450b-85e0-fdb1b47918c8"
      },
      "cell_type": "code",
      "source": [
        "ATIS_BASE_URL=\"https://raw.githubusercontent.com/yvchen/JointSLU/master/data/\"\n",
        "\n",
        "def load_atis_ds(fname, base_url=ATIS_BASE_URL):\n",
        "    res = []\n",
        "    with request.urlopen(parse.urljoin(base_url,fname)) as req:\n",
        "        for line in req.readlines():\n",
        "            line = line.decode(req.info().get_content_charset())\n",
        "            toks,si      = map(str.split, line.split(\"\\t\"))\n",
        "            slots,intent = si[:-1]+['O'], si[-1]\n",
        "            assert len(toks) == len(slots)\n",
        "            res.append((toks, slots, intent))\n",
        "    ds_name = '.'.join(fname.split('.')[:2])\n",
        "    print('{:>20s}: {:4d}'.format(ds_name, len(res)))\n",
        "    return res, ds_name\n",
        "\n",
        "atis = {name: ds for ds, name in \n",
        "        map(load_atis_ds, map(lambda name: name+'.w-intent.iob',\n",
        "                              ['atis.test', 'atis-2.dev','atis-2.train']))}\n"
      ],
      "execution_count": 12,
      "outputs": [
        {
          "output_type": "stream",
          "text": [
            "           atis.test:  893\n",
            "          atis-2.dev:  500\n",
            "        atis-2.train: 4478\n"
          ],
          "name": "stdout"
        }
      ]
    },
    {
      "metadata": {
        "id": "-Bvy53Yb84qY",
        "colab_type": "text"
      },
      "cell_type": "markdown",
      "source": [
        "## Exploring the data splits"
      ]
    },
    {
      "metadata": {
        "id": "7AKmhfc2t4kz",
        "colab_type": "code",
        "colab": {
          "base_uri": "https://localhost:8080/",
          "height": 70
        },
        "outputId": "c4561392-597b-4d55-a01e-7003ad3124a9"
      },
      "cell_type": "code",
      "source": [
        "# a single entry looks like this\n",
        "toks,slots,intent = atis['atis.test'][0]\n",
        "print(' input:', ' '.join(toks))\n",
        "print(' slots:', ' '.join(slots))\n",
        "print('intent:',          intent)"
      ],
      "execution_count": 17,
      "outputs": [
        {
          "output_type": "stream",
          "text": [
            " input: BOS i would like to find a flight from charlotte to las vegas that makes a stop in st. louis EOS\n",
            " slots: O O O O O O O O O B-fromloc.city_name O B-toloc.city_name I-toloc.city_name O O O O O B-stoploc.city_name I-stoploc.city_name O\n",
            "intent: atis_flight\n"
          ],
          "name": "stdout"
        }
      ]
    },
    {
      "metadata": {
        "id": "7pVVfkEV9QIi",
        "colab_type": "text"
      },
      "cell_type": "markdown",
      "source": [
        "Lets check if all labels are present in both the train and test (or dev) data splits."
      ]
    },
    {
      "metadata": {
        "id": "yd15_rZ3wYuT",
        "colab_type": "text"
      },
      "cell_type": "markdown",
      "source": [
        ""
      ]
    },
    {
      "metadata": {
        "id": "LANTfKwvwLMs",
        "colab_type": "code",
        "colab": {
          "base_uri": "https://localhost:8080/",
          "height": 283
        },
        "outputId": "0c5cb40b-e96d-45c9-8ad9-cc7d4b6f7e44"
      },
      "cell_type": "code",
      "source": [
        "test,dev,train = map(atis.get, ['atis.test','atis-2.dev','atis-2.train'])\n",
        "\n",
        "def subdict(d, keys):\n",
        "  return {key: d[key] for key in set(keys)}\n",
        "\n",
        "def atis_label_counts(ds):\n",
        "  tokens, slots, intents = zip(*ds)\n",
        "  token_labs  = Counter(list(itertools.chain.from_iterable(tokens)))\n",
        "  slot_labs   = Counter(list(itertools.chain.from_iterable(slots)))\n",
        "  intent_labs = Counter(intents)\n",
        "  return token_labs, slot_labs, intent_labs\n",
        "\n",
        "def check_atis_split(train, dev, test):\n",
        "  (_,ts,ti), (_,ds,di), (_,es,ei) = map(atis_label_counts,\n",
        "                                        [train, dev, test])\n",
        "\n",
        "  lens = np.array(list(map(len, [train,dev,test])))\n",
        "  print(\"sample count: {:5d} splitted into:\".format(lens.sum()))\n",
        "  for dslen, dsname in zip(lens, ['train', 'dev', 'test']):\n",
        "    print(\"       {:>5s}: {:5d} ({:.3f})\".format(dsname, dslen, dslen/lens.sum()))\n",
        "  \n",
        "\n",
        "  \n",
        "  # map slot/intent labels to usage frequency\n",
        "  token_labs,slot_labs,intent_labs = atis_label_counts(train+dev+test)\n",
        "  sfreqs, ifreqs = map(partial(partial,subdict), [slot_labs, intent_labs])\n",
        "\n",
        "  print(\"intent count:\", len(intent_labs))\n",
        "  print(\"  slot count:\", len(slot_labs))\n",
        "  print(\" token count:\", len(token_labs))\n",
        "  \n",
        "  print(\"missing data for slot/intent labels:\")\n",
        "  ts,ti,ds,di,es,ei = map(lambda s: set(s.keys()), [ts,ti,ds,di,es,ei])\n",
        "  for dsname, mints, mslots in [(\"train\", \n",
        "                                 ifreqs(di.union(ei).difference(ti)),\n",
        "                                 sfreqs(ds.union(es).difference(ts))),\n",
        "                                (\"dev\", \n",
        "                                 ifreqs(ti.difference(di)),\n",
        "                                 sfreqs(ts.difference(ds))),\n",
        "                                (\"test\", \n",
        "                                 ifreqs(ti.difference(ei)),\n",
        "                                 sfreqs(ts.difference(es)))]:\n",
        "    print(\"  no {:>5s} data for {:2d} intents: {}\".format(dsname, \n",
        "                                                       len(mints), mints))\n",
        "    print(\"  no {:>5s} data for {:2d}   slots: {}\".format(dsname, \n",
        "                                                       len(mslots), mslots))\n",
        "\n",
        "\n",
        "check_atis_split(train, dev, test)"
      ],
      "execution_count": 42,
      "outputs": [
        {
          "output_type": "stream",
          "text": [
            "sample count:  5871 splitted into:\n",
            "       train:  4478 (0.763)\n",
            "         dev:   500 (0.085)\n",
            "        test:   893 (0.152)\n",
            "intent count: 26\n",
            "  slot count: 127\n",
            " token count: 952\n",
            "missing data for slot/intent labels:\n",
            "  no train data for  5 intents: {'atis_airfare#atis_flight_time': 1, 'atis_day_name': 2, 'atis_airfare#atis_flight': 1, 'atis_flight_no#atis_airline': 1, 'atis_flight#atis_airline': 1}\n",
            "  no train data for  7   slots: {'I-return_date.day_number': 1, 'B-compartment': 1, 'B-booking_class': 1, 'I-state_name': 1, 'B-flight': 1, 'I-flight_number': 1, 'B-stoploc.airport_code': 1}\n",
            "  no   dev data for  6 intents: {'atis_flight_no': 20, 'atis_aircraft#atis_flight#atis_flight_no': 1, 'atis_cheapest': 1, 'atis_meal': 12, 'atis_ground_service#atis_ground_fare': 1, 'atis_airline#atis_flight_no': 2}\n",
            "  no   dev data for 25   slots: {'B-time_relative': 1, 'B-today_relative': 2, 'I-arrive_time.time_relative': 6, 'I-meal_code': 4, 'I-arrive_date.day_number': 6, 'B-month_name': 2, 'B-time': 2, 'I-meal_description': 1, 'B-toloc.country_name': 4, 'I-depart_date.today_relative': 12, 'B-day_number': 2, 'I-return_date.date_relative': 5, 'B-return_time.period_mod': 2, 'I-arrive_time.start_time': 9, 'I-arrive_time.period_of_day': 3, 'I-time': 1, 'B-stoploc.state_code': 5, 'B-meal_code': 7, 'B-return_date.day_name': 3, 'I-depart_time.time_relative': 3, 'I-today_relative': 3, 'B-return_date.today_relative': 1, 'I-economy': 10, 'B-stoploc.airport_name': 1, 'I-return_date.today_relative': 2}\n",
            "  no  test data for  5 intents: {'atis_aircraft#atis_flight#atis_flight_no': 1, 'atis_cheapest': 1, 'atis_ground_service#atis_ground_fare': 1, 'atis_airline#atis_flight_no': 2, 'atis_restriction': 6}\n",
            "  no  test data for 25   slots: {'B-time_relative': 1, 'I-flight_stop': 17, 'B-today_relative': 2, 'I-meal_code': 4, 'I-arrive_date.day_number': 6, 'B-return_time.period_of_day': 3, 'B-month_name': 2, 'B-time': 2, 'B-return_date.today_relative': 1, 'B-arrive_date.today_relative': 2, 'I-meal_description': 1, 'I-depart_date.today_relative': 12, 'B-arrive_time.period_mod': 4, 'B-day_number': 2, 'B-return_time.period_mod': 2, 'I-arrive_time.period_of_day': 3, 'I-time': 1, 'I-fare_basis_code': 2, 'B-stoploc.state_code': 5, 'B-return_date.day_number': 4, 'I-today_relative': 3, 'B-return_date.month_name': 4, 'I-economy': 10, 'B-stoploc.airport_name': 1, 'I-return_date.today_relative': 2}\n"
          ],
          "name": "stdout"
        }
      ]
    },
    {
      "metadata": {
        "id": "FYmDei989r_6",
        "colab_type": "text"
      },
      "cell_type": "markdown",
      "source": [
        "So from above, we see, there are 5 intent and 7 slot labels not present at all in the train dataset. And quite simillary up to 20% of the labels are not present in the dev or test dataset."
      ]
    },
    {
      "metadata": {
        "id": "QMLyL0rE-4yx",
        "colab_type": "text"
      },
      "cell_type": "markdown",
      "source": [
        "## Splitting the ATIS dataset"
      ]
    },
    {
      "metadata": {
        "id": "piGIBy3p4DKV",
        "colab_type": "code",
        "colab": {}
      },
      "cell_type": "code",
      "source": [
        ""
      ],
      "execution_count": 0,
      "outputs": []
    }
  ]
}